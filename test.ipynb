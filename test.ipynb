{
 "cells": [
  {
   "cell_type": "code",
   "execution_count": 1,
   "id": "5658b2eb-985a-43b9-8202-e0e6cc7715a2",
   "metadata": {},
   "outputs": [],
   "source": [
    "import tensorflow as tf\n",
    "from tensorflow.keras.preprocessing.text import Tokenizer\n",
    "from tensorflow.keras.preprocessing.sequence import pad_sequences\n",
    "import pandas as pd\n",
    "import numpy as np"
   ]
  },
  {
   "cell_type": "code",
   "execution_count": 13,
   "id": "31fad154-c774-4f25-b0b4-885ddbb0e5ab",
   "metadata": {},
   "outputs": [],
   "source": [
    "data = pd.read_csv('all_data.csv')  \n",
    "texts = data['text']"
   ]
  },
  {
   "cell_type": "code",
   "execution_count": 14,
   "id": "65ea9ec9-e4a0-4a26-bb9e-c94c4cfaf553",
   "metadata": {},
   "outputs": [],
   "source": [
    "tokenizer = Tokenizer(num_words=5000)\n",
    "tokenizer.fit_on_texts(texts)"
   ]
  },
  {
   "cell_type": "code",
   "execution_count": 15,
   "id": "6aadb54a-87ba-40c3-adaf-8bf3ad572db7",
   "metadata": {},
   "outputs": [
    {
     "name": "stderr",
     "output_type": "stream",
     "text": [
      "WARNING:absl:Compiled the loaded model, but the compiled metrics have yet to be built. `model.compile_metrics` will be empty until you train or evaluate the model.\n"
     ]
    }
   ],
   "source": [
    "model_path = 'model.h5'  # Ensure this is the correct path to your model\n",
    "model = tf.keras.models.load_model(model_path)"
   ]
  },
  {
   "cell_type": "code",
   "execution_count": 16,
   "id": "d2b7d2f0-a5d3-4d35-acf7-97217563d0b9",
   "metadata": {},
   "outputs": [],
   "source": [
    "def predict_sentiment(sentence):\n",
    "    sequence = tokenizer.texts_to_sequences([sentence])\n",
    "    padded_sequence = pad_sequences(sequence, maxlen=100)\n",
    "    prediction = model.predict(padded_sequence)\n",
    "    return prediction[0][0]"
   ]
  },
  {
   "cell_type": "code",
   "execution_count": 17,
   "id": "e2e819e3-772c-40e0-974c-5894c26c0d11",
   "metadata": {},
   "outputs": [
    {
     "name": "stdout",
     "output_type": "stream",
     "text": [
      "\u001b[1m1/1\u001b[0m \u001b[32m━━━━━━━━━━━━━━━━━━━━\u001b[0m\u001b[37m\u001b[0m \u001b[1m0s\u001b[0m 98ms/step\n",
      "Sentiment score: 0.999998927116394\n"
     ]
    }
   ],
   "source": [
    "test_sentence = \"I am having a great day\"\n",
    "sentiment_score = predict_sentiment(test_sentence)\n",
    "print(f\"Sentiment score: {sentiment_score}\")"
   ]
  },
  {
   "cell_type": "code",
   "execution_count": null,
   "id": "57c8e3c9-eb6b-4ba1-813f-7f752ab760c0",
   "metadata": {},
   "outputs": [],
   "source": []
  }
 ],
 "metadata": {
  "kernelspec": {
   "display_name": "Python 3 (ipykernel)",
   "language": "python",
   "name": "python3"
  },
  "language_info": {
   "codemirror_mode": {
    "name": "ipython",
    "version": 3
   },
   "file_extension": ".py",
   "mimetype": "text/x-python",
   "name": "python",
   "nbconvert_exporter": "python",
   "pygments_lexer": "ipython3",
   "version": "3.9.19"
  }
 },
 "nbformat": 4,
 "nbformat_minor": 5
}
