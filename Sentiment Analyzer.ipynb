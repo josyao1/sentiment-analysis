{
 "cells": [
  {
   "cell_type": "code",
   "execution_count": 1,
   "id": "49586a46-3393-4ac9-a5e3-eaa977f265c8",
   "metadata": {
    "scrolled": true
   },
   "outputs": [
    {
     "name": "stderr",
     "output_type": "stream",
     "text": [
      "/var/folders/t7/jz8n1l4s0gsdprztprkfb_540000gn/T/ipykernel_8403/1168040318.py:1: DeprecationWarning: \n",
      "Pyarrow will become a required dependency of pandas in the next major release of pandas (pandas 3.0),\n",
      "(to allow more performant data types, such as the Arrow string type, and better interoperability with other libraries)\n",
      "but was not found to be installed on your system.\n",
      "If this would cause problems for you,\n",
      "please provide us feedback at https://github.com/pandas-dev/pandas/issues/54466\n",
      "        \n",
      "  import pandas as pd\n"
     ]
    }
   ],
   "source": [
    "import pandas as pd\n",
    "from sklearn.model_selection import train_test_split\n",
    "from tensorflow.keras.preprocessing.text import Tokenizer\n",
    "from tensorflow.keras.preprocessing.sequence import pad_sequences"
   ]
  },
  {
   "cell_type": "code",
   "execution_count": 2,
   "id": "c5238371-0ea3-4291-b580-bb02cd42fb58",
   "metadata": {},
   "outputs": [],
   "source": [
    "def get_all_data():\n",
    "    with open(\"imbd_labelled.txt\", \"r\") as text_file:\n",
    "        data = text_file.read().split('\\n')\n",
    "         \n",
    "    with open(\"amazon_labelled.txt\", \"r\") as text_file:\n",
    "        data += text_file.read().split('\\n')\n",
    "\n",
    "    with open(\"yelp_labelled.txt\", \"r\") as text_file:\n",
    "        data += text_file.read().split('\\n')\n",
    "\n",
    "    return data\n",
    "\n",
    "all_data = get_all_data()"
   ]
  },
  {
   "cell_type": "code",
   "execution_count": 3,
   "id": "e33e5eaf-0811-4dd1-995c-b9c91bef84e1",
   "metadata": {},
   "outputs": [],
   "source": [
    "def preprocess(data):\n",
    "    processing_data = []\n",
    "    for single_data in data:\n",
    "        if len(single_data.split(\"\\t\")) == 2 and single_data.split(\"\\t\")[1] != \"\":\n",
    "            processing_data.append(single_data.split(\"\\t\"))\n",
    "\n",
    "    return processing_data\n",
    "pre = preprocess(all_data)\n",
    "data = pd.DataFrame(pre, columns=['text', 'sentiment'])\n"
   ]
  },
  {
   "cell_type": "code",
   "execution_count": 4,
   "id": "dea5b48f-ab94-405b-9639-c6f713b99d27",
   "metadata": {},
   "outputs": [
    {
     "name": "stdout",
     "output_type": "stream",
     "text": [
      "<class 'pandas.core.frame.DataFrame'>\n",
      "RangeIndex: 3000 entries, 0 to 2999\n",
      "Data columns (total 2 columns):\n",
      " #   Column     Non-Null Count  Dtype \n",
      "---  ------     --------------  ----- \n",
      " 0   text       3000 non-null   object\n",
      " 1   sentiment  3000 non-null   object\n",
      "dtypes: object(2)\n",
      "memory usage: 47.0+ KB\n"
     ]
    }
   ],
   "source": [
    "data.info()"
   ]
  },
  {
   "cell_type": "code",
   "execution_count": 18,
   "id": "8e1ff102-1e6b-4558-b860-60297452f8ef",
   "metadata": {},
   "outputs": [],
   "source": [
    "data.to_csv('all_data.csv', index=False)"
   ]
  },
  {
   "cell_type": "code",
   "execution_count": 15,
   "id": "b938515f-3c69-4626-9f03-edafdf84b75f",
   "metadata": {},
   "outputs": [],
   "source": [
    "# Preprocess the data\n",
    "X = data['text']  \n",
    "y = data['sentiment']  \n",
    "\n",
    "# Tokenize the text\n",
    "tokenizer = Tokenizer(num_words=5000)\n",
    "tokenizer.fit_on_texts(X)\n",
    "X_sequences = tokenizer.texts_to_sequences(X)\n",
    "X_padded = pad_sequences(X_sequences, maxlen=100)"
   ]
  },
  {
   "cell_type": "code",
   "execution_count": 16,
   "id": "c91ba9d3-0bc1-44e8-927b-6052f566fd4f",
   "metadata": {
    "scrolled": true
   },
   "outputs": [],
   "source": [
    "X_train, X_test, y_train, y_test = train_test_split(X_padded, y, test_size=0.2, random_state=42)\n",
    "y_train = y_train.astype('int')\n",
    "y_test = y_test.astype('int')"
   ]
  },
  {
   "cell_type": "code",
   "execution_count": 17,
   "id": "6939cbf6-5bcd-449d-a3bd-0c9abb3b2d80",
   "metadata": {
    "scrolled": true
   },
   "outputs": [
    {
     "name": "stdout",
     "output_type": "stream",
     "text": [
      "Epoch 1/10\n"
     ]
    },
    {
     "name": "stderr",
     "output_type": "stream",
     "text": [
      "/Users/joshuayao/opt/miniconda3/lib/python3.9/site-packages/keras/src/layers/core/embedding.py:90: UserWarning: Argument `input_length` is deprecated. Just remove it.\n",
      "  warnings.warn(\n"
     ]
    },
    {
     "name": "stdout",
     "output_type": "stream",
     "text": [
      "\u001b[1m75/75\u001b[0m \u001b[32m━━━━━━━━━━━━━━━━━━━━\u001b[0m\u001b[37m\u001b[0m \u001b[1m9s\u001b[0m 106ms/step - accuracy: 0.5484 - loss: 0.6809 - val_accuracy: 0.7267 - val_loss: 0.5092\n",
      "Epoch 2/10\n",
      "\u001b[1m75/75\u001b[0m \u001b[32m━━━━━━━━━━━━━━━━━━━━\u001b[0m\u001b[37m\u001b[0m \u001b[1m8s\u001b[0m 107ms/step - accuracy: 0.8185 - loss: 0.4361 - val_accuracy: 0.8067 - val_loss: 0.4512\n",
      "Epoch 3/10\n",
      "\u001b[1m75/75\u001b[0m \u001b[32m━━━━━━━━━━━━━━━━━━━━\u001b[0m\u001b[37m\u001b[0m \u001b[1m8s\u001b[0m 110ms/step - accuracy: 0.9313 - loss: 0.1891 - val_accuracy: 0.7833 - val_loss: 0.5055\n",
      "Epoch 4/10\n",
      "\u001b[1m75/75\u001b[0m \u001b[32m━━━━━━━━━━━━━━━━━━━━\u001b[0m\u001b[37m\u001b[0m \u001b[1m8s\u001b[0m 108ms/step - accuracy: 0.9805 - loss: 0.0783 - val_accuracy: 0.8100 - val_loss: 0.7079\n",
      "Epoch 5/10\n",
      "\u001b[1m75/75\u001b[0m \u001b[32m━━━━━━━━━━━━━━━━━━━━\u001b[0m\u001b[37m\u001b[0m \u001b[1m8s\u001b[0m 109ms/step - accuracy: 0.9873 - loss: 0.0433 - val_accuracy: 0.7867 - val_loss: 0.7503\n",
      "Epoch 6/10\n",
      "\u001b[1m75/75\u001b[0m \u001b[32m━━━━━━━━━━━━━━━━━━━━\u001b[0m\u001b[37m\u001b[0m \u001b[1m8s\u001b[0m 112ms/step - accuracy: 0.9914 - loss: 0.0299 - val_accuracy: 0.7967 - val_loss: 0.6879\n",
      "Epoch 7/10\n",
      "\u001b[1m75/75\u001b[0m \u001b[32m━━━━━━━━━━━━━━━━━━━━\u001b[0m\u001b[37m\u001b[0m \u001b[1m8s\u001b[0m 108ms/step - accuracy: 0.9953 - loss: 0.0164 - val_accuracy: 0.7950 - val_loss: 0.8754\n",
      "Epoch 8/10\n",
      "\u001b[1m75/75\u001b[0m \u001b[32m━━━━━━━━━━━━━━━━━━━━\u001b[0m\u001b[37m\u001b[0m \u001b[1m8s\u001b[0m 104ms/step - accuracy: 0.9986 - loss: 0.0078 - val_accuracy: 0.7900 - val_loss: 1.0544\n",
      "Epoch 9/10\n",
      "\u001b[1m75/75\u001b[0m \u001b[32m━━━━━━━━━━━━━━━━━━━━\u001b[0m\u001b[37m\u001b[0m \u001b[1m8s\u001b[0m 109ms/step - accuracy: 0.9999 - loss: 0.0022 - val_accuracy: 0.7867 - val_loss: 1.0674\n",
      "Epoch 10/10\n",
      "\u001b[1m75/75\u001b[0m \u001b[32m━━━━━━━━━━━━━━━━━━━━\u001b[0m\u001b[37m\u001b[0m \u001b[1m8s\u001b[0m 106ms/step - accuracy: 0.9976 - loss: 0.0071 - val_accuracy: 0.7933 - val_loss: 1.1958\n"
     ]
    }
   ],
   "source": [
    "from keras.models import Sequential\n",
    "from keras.layers import Embedding, LSTM, Dense, Dropout\n",
    "\n",
    "# Build the model\n",
    "model = Sequential()\n",
    "model.add(Embedding(input_dim=5000, output_dim=128, input_length=100))\n",
    "model.add(LSTM(128, return_sequences=True))\n",
    "model.add(Dropout(0.2))\n",
    "model.add(LSTM(128))\n",
    "model.add(Dense(1, activation='sigmoid'))\n",
    "\n",
    "# Compile the model\n",
    "model.compile(loss='binary_crossentropy', optimizer='adam', metrics=['accuracy'])\n",
    "\n",
    "# Train the model\n",
    "history = model.fit(X_train, y_train, epochs=10, validation_data=(X_test, y_test), batch_size=32)\n"
   ]
  },
  {
   "cell_type": "markdown",
   "id": "af64dd9b-796d-4a08-bfa0-c01efc894f5b",
   "metadata": {},
   "source": [
    "### Epoch Data Analysis\n",
    "\n",
    "The epoch data provides insights into the performance of the model during training and validation over multiple epochs. Here are the key trends observed:\n",
    "\n",
    "1. **Training Accuracy**:\n",
    "   - The training accuracy shows a consistent and significant increase across epochs, starting from approximately 55% and reaching near-perfect accuracy close to 100% by the final epoch.\n",
    "\n",
    "2. **Training Loss**:\n",
    "   - The training loss decreases steadily, indicating that the model is learning effectively from the training data and minimizing errors.\n",
    "\n",
    "3. **Validation Accuracy**:\n",
    "   - The validation accuracy initially improves significantly, peaking early around 81%. However, it shows slight fluctuations and does not continue to improve consistently in later epochs.\n",
    "\n",
    "4. **Validation Loss**:\n",
    "   - The validation loss decreases initially but starts to increase in the later epochs, suggesting that the model might be overfitting to the training data. This is indicated by the validation loss surpassing the training loss after a few epochs.\n",
    "\n",
    "### Key Observations\n",
    "\n",
    "- **Overfitting**: The increasing gap between the high training accuracy and the fluctuating validation accuracy, along with the rising validation loss, indicates that the model may be overfitting to the training data. Overfitting occurs when the model learns the training data too well, including its noise and outliers, but fails to generalize to new, unseen data.\n",
    "\n",
    "- **Early Stopping**: To prevent overfitting, techniques such as early stopping can be employed. This involves monitoring the validation loss during training and stopping the training process once the validation loss starts to increase.\n",
    "\n",
    "- **Model Performance**: Despite the high training accuracy, the model's generalization to validation data is limited. Fine-tuning the model, using regularization techniques, or obtaining more training data might help improve its performance on the validation set.\n"
   ]
  },
  {
   "cell_type": "code",
   "execution_count": 19,
   "id": "4b0b0bd6-1c12-4574-a7cf-27b6caef728c",
   "metadata": {},
   "outputs": [
    {
     "name": "stderr",
     "output_type": "stream",
     "text": [
      "WARNING:absl:You are saving your model as an HDF5 file via `model.save()` or `keras.saving.save_model(model)`. This file format is considered legacy. We recommend using instead the native Keras format, e.g. `model.save('my_model.keras')` or `keras.saving.save_model(model, 'my_model.keras')`. \n"
     ]
    },
    {
     "name": "stdout",
     "output_type": "stream",
     "text": [
      "Model saved at: /Users/joshuayao/Desktop/Sentiment Project/model.h5\n"
     ]
    }
   ],
   "source": [
    "import os\n",
    "\n",
    "# Save the model to a file\n",
    "model.save('model.h5')\n",
    "\n",
    "# Find the current working directory\n",
    "current_directory = os.getcwd()\n",
    "model_path = os.path.join(current_directory, 'model.h5')\n",
    "print(f\"Model saved at: {model_path}\")"
   ]
  },
  {
   "cell_type": "code",
   "execution_count": 20,
   "id": "a917d828-4ada-4d39-9ba0-1af03444b96a",
   "metadata": {},
   "outputs": [
    {
     "data": {
      "image/png": "[encoded data removed]",
      "text/plain": [
       "<Figure size 640x480 with 1 Axes>"
      ]
     },
     "metadata": {},
     "output_type": "display_data"
    },
    {
     "data": {
      "image/png": "[encoded data removed]",
      "text/plain": [
       "<Figure size 640x480 with 1 Axes>"
      ]
     },
     "metadata": {},
     "output_type": "display_data"
    }
   ],
   "source": [
    "import matplotlib.pyplot as plt\n",
    "\n",
    "# Visualize the training history\n",
    "plt.plot(history.history['accuracy'])\n",
    "plt.plot(history.history['val_accuracy'])\n",
    "plt.title('Model accuracy')\n",
    "plt.ylabel('Accuracy')\n",
    "plt.xlabel('Epoch')\n",
    "plt.legend(['Train', 'Test'], loc='upper left')\n",
    "plt.show()\n",
    "\n",
    "plt.plot(history.history['loss'])\n",
    "plt.plot(history.history['val_loss'])\n",
    "plt.title('Model loss')\n",
    "plt.ylabel('Loss')\n",
    "plt.xlabel('Epoch')\n",
    "plt.legend(['Train', 'Test'], loc='upper left')\n",
    "plt.show()\n"
   ]
  },
  {
   "cell_type": "code",
   "execution_count": 22,
   "id": "81160616-f2a3-4741-b493-0834013575c3",
   "metadata": {},
   "outputs": [
    {
     "name": "stdin",
     "output_type": "stream",
     "text": [
      "Please type a sentence to analyze:  that was awful\n"
     ]
    },
    {
     "name": "stdout",
     "output_type": "stream",
     "text": [
      "\u001b[1m1/1\u001b[0m \u001b[32m━━━━━━━━━━━━━━━━━━━━\u001b[0m\u001b[37m\u001b[0m \u001b[1m0s\u001b[0m 41ms/step\n",
      "Sentiment score: 0.00009386\n"
     ]
    }
   ],
   "source": [
    "def predict_sentiment(sentence):\n",
    "    sequence = tokenizer.texts_to_sequences([sentence])\n",
    "    padded_sequence = pad_sequences(sequence, maxlen=100)\n",
    "    prediction = model.predict(padded_sequence)\n",
    "    return prediction[0][0]\n",
    "\n",
    "sentence = input(\"Please type a sentence to analyze: \")\n",
    "sentiment_score = predict_sentiment(sentence)\n",
    "print(f\"Sentiment score: {sentiment_score:.10f}\")"
   ]
  },
  {
   "cell_type": "code",
   "execution_count": 56,
   "id": "35c34d19-dedd-4bac-a06a-f550567e5de4",
   "metadata": {},
   "outputs": [
    {
     "data": {
      "text/plain": [
       "'A very, very, very slow-moving, aimless movie about a distressed, drifting young man.  '"
      ]
     },
     "execution_count": 56,
     "metadata": {},
     "output_type": "execute_result"
    }
   ],
   "source": [
    "data['text'][0]\n"
   ]
  },
  {
   "cell_type": "code",
   "execution_count": null,
   "id": "484cd20b-63b4-4dd3-be48-bf5cb21460d0",
   "metadata": {},
   "outputs": [],
   "source": []
  }
 ],
 "metadata": {
  "kernelspec": {
   "display_name": "Python 3 (ipykernel)",
   "language": "python",
   "name": "python3"
  },
  "language_info": {
   "codemirror_mode": {
    "name": "ipython",
    "version": 3
   },
   "file_extension": ".py",
   "mimetype": "text/x-python",
   "name": "python",
   "nbconvert_exporter": "python",
   "pygments_lexer": "ipython3",
   "version": "3.9.19"
  }
 },
 "nbformat": 4,
 "nbformat_minor": 5
}
